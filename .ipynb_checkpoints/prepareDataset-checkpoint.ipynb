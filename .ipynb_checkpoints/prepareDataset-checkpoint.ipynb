{
 "cells": [
  {
   "cell_type": "code",
   "execution_count": 2,
   "id": "1b062814-5cbd-4fc3-8862-dd7679028e73",
   "metadata": {},
   "outputs": [],
   "source": [
    "from datasets import load_dataset\n",
    "data = load_dataset(\"FinGPT/fingpt-fiqa_qa\", split = \"train\")"
   ]
  },
  {
   "cell_type": "code",
   "execution_count": 9,
   "id": "cccd9df1-578f-4bec-9568-4b1d5d068945",
   "metadata": {},
   "outputs": [],
   "source": [
    "outputs = []\n",
    "for datapoint in data:\n",
    "    outputs.append(\n",
    "        {\n",
    "            \"context\": datapoint[\"instruction\"],\n",
    "            \"question\": datapoint[\"input\"],\n",
    "            \"answer\": datapoint[\"output\"]\n",
    "        }\n",
    "    )"
   ]
  },
  {
   "cell_type": "code",
   "execution_count": 10,
   "id": "146c828b-bf16-49f1-b2c3-e4eabf55b8e1",
   "metadata": {},
   "outputs": [],
   "source": [
    "data1 = load_dataset(\"gbharti/finance-alpaca\", split = \"train\")"
   ]
  },
  {
   "cell_type": "code",
   "execution_count": 11,
   "id": "1a306e6b-fb8c-42b2-9117-d32f62160661",
   "metadata": {},
   "outputs": [],
   "source": [
    "for datapoint in data1:\n",
    "    outputs.append(\n",
    "        {\n",
    "            \"context\": datapoint[\"input\"],\n",
    "            \"question\": datapoint[\"instruction\"],\n",
    "            \"answer\": datapoint[\"output\"]\n",
    "        }\n",
    "    )"
   ]
  },
  {
   "cell_type": "code",
   "execution_count": 14,
   "id": "75ea46b1-32bf-4a46-9ec5-0c64075d1f75",
   "metadata": {},
   "outputs": [
    {
     "data": {
      "application/vnd.jupyter.widget-view+json": {
       "model_id": "cae0a74ace3141b9ae8f86b13b7736f4",
       "version_major": 2,
       "version_minor": 0
      },
      "text/plain": [
       "Uploading the dataset shards:   0%|          | 0/1 [00:00<?, ?it/s]"
      ]
     },
     "metadata": {},
     "output_type": "display_data"
    },
    {
     "data": {
      "application/vnd.jupyter.widget-view+json": {
       "model_id": "55e1efc2b7bd4d46ba49d657c70f05ae",
       "version_major": 2,
       "version_minor": 0
      },
      "text/plain": [
       "Creating parquet from Arrow format:   0%|          | 0/87 [00:00<?, ?ba/s]"
      ]
     },
     "metadata": {},
     "output_type": "display_data"
    },
    {
     "data": {
      "text/plain": [
       "CommitInfo(commit_url='https://huggingface.co/datasets/Ubaidbhat/finance_dataset/commit/4b7c53fa070c38e47e07674515bd9ef22f9a5594', commit_message='Upload dataset', commit_description='', oid='4b7c53fa070c38e47e07674515bd9ef22f9a5594', pr_url=None, pr_revision=None, pr_num=None)"
      ]
     },
     "execution_count": 14,
     "metadata": {},
     "output_type": "execute_result"
    }
   ],
   "source": [
    "import pandas as pd\n",
    "from datasets import Dataset, DatasetDict\n",
    "finance_df = pd.DataFrame.from_dict(outputs)\n",
    "finance_dataset = Dataset.from_pandas(finance_df)\n",
    "finance_dataset.push_to_hub(\"finance_dataset\")"
   ]
  },
  {
   "cell_type": "code",
   "execution_count": null,
   "id": "4f90b41c-96d0-45d3-ac01-d9c4e2857242",
   "metadata": {},
   "outputs": [],
   "source": []
  }
 ],
 "metadata": {
  "kernelspec": {
   "display_name": "Python 3 (ipykernel)",
   "language": "python",
   "name": "python3"
  },
  "language_info": {
   "codemirror_mode": {
    "name": "ipython",
    "version": 3
   },
   "file_extension": ".py",
   "mimetype": "text/x-python",
   "name": "python",
   "nbconvert_exporter": "python",
   "pygments_lexer": "ipython3",
   "version": "3.10.12"
  }
 },
 "nbformat": 4,
 "nbformat_minor": 5
}
